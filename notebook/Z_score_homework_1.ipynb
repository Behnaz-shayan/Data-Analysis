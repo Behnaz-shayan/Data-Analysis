{
  "nbformat": 4,
  "nbformat_minor": 0,
  "metadata": {
    "colab": {
      "provenance": [],
      "authorship_tag": "ABX9TyOAw7VQH9vundsgzhza1UK7",
      "include_colab_link": true
    },
    "kernelspec": {
      "name": "python3",
      "display_name": "Python 3"
    },
    "language_info": {
      "name": "python"
    }
  },
  "cells": [
    {
      "cell_type": "markdown",
      "metadata": {
        "id": "view-in-github",
        "colab_type": "text"
      },
      "source": [
        "<a href=\"https://colab.research.google.com/github/Behnaz-shayan/Data-Analysis/blob/main/notebook/Z_score_homework_1.ipynb\" target=\"_parent\"><img src=\"https://colab.research.google.com/assets/colab-badge.svg\" alt=\"Open In Colab\"/></a>"
      ]
    },
    {
      "cell_type": "markdown",
      "source": [],
      "metadata": {
        "id": "qi9BvLRUlxNN"
      }
    },
    {
      "cell_type": "markdown",
      "metadata": {
        "id": "f916244d"
      },
      "source": [
        "\n",
        "# 🧮 Homework: Z‑Score Standardization (Beginner)\n",
        "\n",
        "**Goal:** Learn how to standardize data with *z‑scores* in three ways and understand why it matters for preprocessing.\n",
        "\n",
        "### Learning Objectives\n",
        "- Compute the **sample mean** and **sample standard deviation** (by hand with loops and with NumPy).\n",
        "- Compute **z‑scores** for a single variable and for multiple columns.\n",
        "- Use **`StandardScaler`** from scikit‑learn and **compare** results with your manual approach.\n",
        "- Make simple **plots** (histograms / boxplots) to see the effect of scaling.\n",
        "- Reflect on what z‑scores mean in context.\n",
        "\n",
        "### Z‑score definition\n",
        "The z‑score of a value \\(x\\) from a variable \\(X\\) with mean $(\\mu)$ and sample standard deviation $(\\sigma)$ is:\n",
        "$$\n",
        "z \\;=\\; \\frac{x - \\mu}{\\sigma}\n",
        "$$\n",
        "\n",
        "**Notes**\n",
        "- Use **sample** standard deviation (divide by \\(n-1\\)).\n",
        "- Keep your code **very simple** (loops are fine).\n",
        "- Write code only in the `# TODO` cells.\n"
      ]
    },
    {
      "cell_type": "markdown",
      "source": [],
      "metadata": {
        "id": "zXqwpbLvl6Od"
      }
    },
    {
      "cell_type": "markdown",
      "metadata": {
        "id": "e8134655"
      },
      "source": [
        "\n",
        "## 1) Setup & Make a Tiny Dataset\n",
        "\n",
        "We will start with one list of numbers (like exam scores). Later, we will use a small table (DataFrame).\n",
        "\n",
        "**Your tasks**\n",
        "- Import: `numpy as np`, `pandas as pd`, `matplotlib.pyplot as plt`  \n",
        "- (Later) we will also use: `from sklearn.preprocessing import StandardScaler`\n",
        "- Create a list named `scores` with **10–15 integers** between 0 and 100. Include **at least one low** (e.g., 5–20) and **one high** (e.g., 95–100) to see outliers.\n",
        "- Print the list and its length.\n",
        "- Draw a histogram of `scores`. (One plot, any number of bins.)\n",
        "\n",
        "**Tip:** If you want reproducible random numbers, use `np.random.seed(0)`.\n"
      ]
    },
    {
      "cell_type": "code",
      "execution_count": 25,
      "metadata": {
        "colab": {
          "base_uri": "https://localhost:8080/",
          "height": 541
        },
        "id": "Zfz0WRY-keGL",
        "outputId": "e82dddd7-9d2e-4bc4-db4c-08ea55969ba7"
      },
      "outputs": [
        {
          "output_type": "stream",
          "name": "stdout",
          "text": [
            "Scores list: [71, 34, 80, 40, 43, 22, 41, 72, 21, 49, 57, 21, 83, 5, 99]\n",
            "Soreted scores are; [5, 21, 21, 22, 34, 40, 41, 43, 49, 57, 71, 72, 80, 83, 99]\n",
            "Number of scores: 15\n"
          ]
        },
        {
          "output_type": "display_data",
          "data": {
            "text/plain": [
              "<Figure size 640x480 with 1 Axes>"
            ],
            "image/png": "[encoded data removed]"
          },
          "metadata": {}
        },
        {
          "output_type": "stream",
          "name": "stdout",
          "text": [
            "Bin edges: [ 5.   16.75 28.5  40.25 52.   63.75 75.5  87.25 99.  ]\n"
          ]
        }
      ],
      "source": [
        "# Write your code here\n",
        "import numpy as np\n",
        "import pandas as pd\n",
        "import matplotlib.pyplot as plt\n",
        "from sklearn.preprocessing import StandardScaler\n",
        "np.random.seed(42)\n",
        "scores = np.random.randint(20, 90, size=13).tolist()\n",
        "#print(\"Scores list:\", scores)\n",
        "#print(type(scores))\n",
        "\n",
        "#scores += [5, 99]\n",
        "scores.extend([5, 99]) # Corrected: Use extend to add multiple items from a list\n",
        "scores_sorted = sorted(scores) # Sort the scores list and save in a new variable\n",
        "print(\"Scores list:\", scores)\n",
        "print(\"Soreted scores are:\", scores_sorted)\n",
        "print(\"Number of scores:\", len(scores))\n",
        "n, bins, patches = plt.hist(scores, bins=8, color='skyblue', edgecolor='black')\n",
        "\n",
        "plt.title(\"Histogram of Scores\")\n",
        "plt.xlabel(\"Score\")\n",
        "plt.ylabel(\"Frequency\")\n",
        "plt.show()\n",
        "\n",
        "print(\"Bin edges:\", bins)"
      ]
    },
    {
      "cell_type": "markdown",
      "source": [],
      "metadata": {
        "id": "kivr57kRlKOV"
      }
    },
    {
      "cell_type": "markdown",
      "metadata": {
        "id": "ab1c92ae"
      },
      "source": [
        "\n",
        "## 2A) Mean & Standard Deviation — **Manual (with loops)**\n",
        "\n",
        "We will compute the **sample** mean and **sample** standard deviation using only loops and basic math.\n",
        "\n",
        "**Formulas**\n",
        "- Sample mean:\n",
        "$$\n",
        "μ\\ or\\ \\bar{x} \\;=\\; \\frac{1}{n}\\sum_{i=1}^{n} x_i\n",
        "$$\n",
        "\n",
        "- Sample variance:\n",
        "$$\n",
        "σ^2 \\;=\\; \\frac{1}{n-1}\\sum_{i=1}^{n}\\bigl(x_i - \\bar{x}\\bigr)^2\n",
        "$$\n",
        "\n",
        "- Sample standard deviation:\n",
        "$$\n",
        "σ \\;=\\; \\sqrt{σ^2}\n",
        "$$\n",
        "\n",
        "**Your tasks**\n",
        "1. Compute `mean_manual` of `scores` **using a loop** (no `np.mean` here).\n",
        "2. Compute `std_manual` of `scores` **using loops** and the formulas above (use \\(n-1\\)).\n",
        "3. Print both values.\n"
      ]
    },
    {
      "cell_type": "code",
      "source": [
        "# Calculate the mean (average)\n",
        "n = len(scores)              # how many numbers we have\n",
        "total = 0                    # start from zero\n",
        "for value in scores:         # go through each score\n",
        "    total = total + value    # add it to total\n",
        "mean_manual = total / n      # divide by how many numbers\n",
        "\n",
        "# Calculate the standard deviation (spread of numbers)\n",
        "sum_diff = 0\n",
        "for value in scores:\n",
        "    difference = value - mean_manual       # how far each value is from the mean\n",
        "    square_diff = difference * difference  # square it\n",
        "    sum_diff = sum_diff + square_diff      # add it up\n",
        "\n",
        "variance = sum_diff / (n - 1)   # use (n-1) for sample standard deviation\n",
        "std_manual = variance ** 0.5    # square root\n",
        "#std_manual = np.sqrt(variance)\n",
        "\n",
        "# Show the results\n",
        "\n",
        "print(\"Manual Mean:\", mean_manual)\n",
        "print(\"Manual Standard Deviation:\", std_manual)"
      ],
      "metadata": {
        "colab": {
          "base_uri": "https://localhost:8080/"
        },
        "id": "u_9cnP4ck0gD",
        "outputId": "754e7267-ed5f-4bf9-ab5e-7e7c5030d69e"
      },
      "execution_count": 2,
      "outputs": [
        {
          "output_type": "stream",
          "name": "stdout",
          "text": [
            "Manual Mean: 49.2\n",
            "Manual Standard Deviation: 27.16668127373256\n"
          ]
        }
      ]
    },
    {
      "cell_type": "markdown",
      "source": [],
      "metadata": {
        "id": "PZRDYmfQlq-J"
      }
    },
    {
      "cell_type": "markdown",
      "metadata": {
        "id": "63b748af"
      },
      "source": [
        "\n",
        "## 2B) Mean & Standard Deviation — **NumPy helpers**\n",
        "\n",
        "Now use NumPy to do the same steps more simply.\n",
        "\n",
        "**Your tasks**\n",
        "1. Compute `mean_np = np.mean(scores)`\n",
        "2. Compute `std_np  = np.std(scores, ddof=1)`  ← `ddof=1` makes it **sample** std\n",
        "3. Print both values and compare with your manual values.\n"
      ]
    },
    {
      "cell_type": "code",
      "source": [
        "# NumPy helpers\n",
        "\n",
        "mean_np = np.mean(scores)\n",
        "std_np = np.std(scores, ddof=1)\n",
        "print(mean_np)\n",
        "print(std_np)\n"
      ],
      "metadata": {
        "colab": {
          "base_uri": "https://localhost:8080/"
        },
        "id": "i4jN36Owl_WI",
        "outputId": "297e3c11-0fd2-462c-85e8-dfed6e9b87eb"
      },
      "execution_count": 5,
      "outputs": [
        {
          "output_type": "stream",
          "name": "stdout",
          "text": [
            "49.2\n",
            "27.16668127373256\n"
          ]
        }
      ]
    },
    {
      "cell_type": "markdown",
      "source": [],
      "metadata": {
        "id": "hlyZENj8m2HN"
      }
    },
    {
      "cell_type": "markdown",
      "metadata": {
        "id": "50c964dc"
      },
      "source": [
        "\n",
        "## 3) Compute Z‑Scores for `scores`\n",
        "\n",
        "Remember:\n",
        "$$\n",
        "z_i \\;=\\; \\frac{x_i - \\mu}{\\sigma}\n",
        "$$\n",
        "\n",
        "**Your tasks**\n",
        "1. Using your **manual** mean/std (`mean_manual`, `std_manual`), compute a list `z_manual` with the z‑score of each value in `scores`.\n",
        "2. Using **NumPy** mean/std (`mean_np`, `std_np`), compute a list `z_numpy` for the same `scores`.\n",
        "3. Print the **first 5** values of each.\n",
        "4. Plot **two histograms**: original `scores` and standardized `z_manual` (or `z_numpy`). Add titles and labels.\n",
        "5. (Optional) Print the (approximate) mean and std of `z_manual` to confirm ~0 and ~1.\n"
      ]
    },
    {
      "cell_type": "code",
      "source": [
        "# Z‑Scores\n",
        "# ---- Using manual mean and std ----\n",
        "z_manual = []                      # make an empty list to store the z-scores\n",
        "for x in scores:\n",
        " z = (x - mean_manual) / std_manual\n",
        " z_manual.append(z)                 # add the z-score to the list\n",
        "\n",
        "print(\"All z-scores (manual):\", z_manual)\n",
        "print(\"How many z-scores:\", len(z_manual))\n",
        "\n",
        "# --- Plot original scores histogram (simple, one plot)\n",
        "plt.hist(scores, bins=8, edgecolor='black')\n",
        "plt.title(\"Original Scores\")\n",
        "plt.xlabel(\"Score\")\n",
        "plt.ylabel(\"Frequency\")\n",
        "plt.show()\n"
      ],
      "metadata": {
        "colab": {
          "base_uri": "https://localhost:8080/",
          "height": 527
        },
        "id": "kT0iIIPmnjFv",
        "outputId": "da20a500-b46b-4285-b1e5-8609436a8b9c"
      },
      "execution_count": 15,
      "outputs": [
        {
          "output_type": "stream",
          "name": "stdout",
          "text": [
            "All z-scores (manual): [0.8024535562640991, -0.5595089016153353, 1.1337417216942318, -0.3386501246619135, -0.2282207361852026, -1.0012264555221788, -0.30184032850300985, 0.8392633524230027, -1.0380362516810824, -0.007361959231780831, 0.2871164100394482, -1.0380362516810824, 1.2441711101709425, -1.6269929902235405, 1.8331278487134006]\n",
            "How many z-scores: 15\n"
          ]
        },
        {
          "output_type": "display_data",
          "data": {
            "text/plain": [
              "<Figure size 640x480 with 1 Axes>"
            ],
            "image/png": "[encoded data removed]"
          },
          "metadata": {}
        }
      ]
    },
    {
      "cell_type": "code",
      "source": [
        "\n",
        "# --- Plot z-scores histogram (simple, one plot)\n",
        "\n",
        "plt.hist(z_manual, bins=8, edgecolor='black')\n",
        "plt.title(\"Standardized (Z) Scores - Manual\")\n",
        "plt.xlabel(\"Z-score\")\n",
        "plt.ylabel(\"Frequency\")\n",
        "plt.show()\n"
      ],
      "metadata": {
        "colab": {
          "base_uri": "https://localhost:8080/",
          "height": 472
        },
        "id": "0HPx6JLLvbIh",
        "outputId": "69b49b08-b500-4a73-979c-fd0b51614562"
      },
      "execution_count": 16,
      "outputs": [
        {
          "output_type": "display_data",
          "data": {
            "text/plain": [
              "<Figure size 640x480 with 1 Axes>"
            ],
            "image/png": "[encoded data removed]"
          },
          "metadata": {}
        }
      ]
    },
    {
      "cell_type": "code",
      "source": [
        "# --- Optional quick check: z-scores should be around mean≈0, std≈1\n",
        "\n",
        "print(\"Mean of z_manual (≈ 0):\", np.mean(z_manual))\n",
        "print(\"Std of z_manual (≈ 1):\", np.std(z_manual, ddof=1))"
      ],
      "metadata": {
        "colab": {
          "base_uri": "https://localhost:8080/"
        },
        "id": "u8y1UA7fynll",
        "outputId": "1acad442-0143-4692-fd9f-1b05a5df7b27"
      },
      "execution_count": 17,
      "outputs": [
        {
          "output_type": "stream",
          "name": "stdout",
          "text": [
            "Mean of z_manual (≈ 0): -7.401486830834377e-17\n",
            "Std of z_manual (≈ 1): 1.0\n"
          ]
        }
      ]
    },
    {
      "cell_type": "markdown",
      "source": [],
      "metadata": {
        "id": "v3tgWSmMzV48"
      }
    },
    {
      "cell_type": "markdown",
      "metadata": {
        "id": "7901f2c3"
      },
      "source": [
        "\n",
        "## 4) Standardize Multiple Columns (small DataFrame)\n",
        "\n",
        "Create a tiny table with 3 numeric columns (e.g., height, weight, exam_score).\n",
        "\n",
        "**Your tasks**\n",
        "1. Make `small_df` with **5 rows** and **3 columns** of numbers.\n",
        "2. For each column:\n",
        "   - Compute column mean and std (you may use `np.mean` / `np.std(..., ddof=1)`).\n",
        "   - Create a new DataFrame `small_df_z_manual` with the z‑scores per column.\n",
        "3. Plot a **boxplot** of the original columns and another boxplot for the z‑scored columns to see the effect of scaling.\n"
      ]
    },
    {
      "cell_type": "code",
      "source": [
        "# Standardize Multiple Columns (small DataFrame)\n",
        "# 1) Make a tiny table (5 rows × 3 numeric columns)\n",
        "np.random.seed(42)\n",
        "small_df = pd.DataFrame({\n",
        " \"height_cm\":  np.random.randint(150, 190, size=5),   # random heights\n",
        "    \"weight_kg\":  np.random.randint(45, 95,  size=5),    # random weights\n",
        "    \"exam_score\": np.random.randint(50, 100, size=5)     # random exam scores\n",
        "})\n",
        "\n",
        "print(\"Original small_df:\")\n",
        "print(small_df)"
      ],
      "metadata": {
        "colab": {
          "base_uri": "https://localhost:8080/"
        },
        "id": "fCAVQHlPzVhP",
        "outputId": "194e8050-a196-48d9-a78d-148303d5dbb8"
      },
      "execution_count": 27,
      "outputs": [
        {
          "output_type": "stream",
          "name": "stdout",
          "text": [
            "Original small_df:\n",
            "   height_cm  weight_kg  exam_score\n",
            "0        188         83          73\n",
            "1        178         63          85\n",
            "2        164         67          89\n",
            "3        157         55          73\n",
            "4        170         55          52\n"
          ]
        }
      ]
    },
    {
      "cell_type": "code",
      "source": [
        "# --- Step 2: Make a new table with z-scores for each column ---\n",
        "\n",
        "small_df_z_manual = pd.DataFrame()   # empty table to fill with z-scores\n",
        "\n",
        "for col in small_df.columns:         # go through each column name\n",
        "    mean_col = np.mean(small_df[col])        # find column average\n",
        "    std_col  = np.std(small_df[col], ddof=1)  # find standard deviation (sample)\n",
        "\n",
        "    # calculate z-scores for this column\n",
        "    z_values = (small_df[col] - mean_col) / std_col\n",
        "\n",
        "    # add this z-score column to the new table\n",
        "    small_df_z_manual[col] = z_values\n",
        "\n",
        "print(\"\\nZ-scored small_df (manual):\")    # show standardized data\n",
        "print(small_df_z_manual)\n",
        "\n",
        "print(\"\\nMean of each column:\")\n",
        "print(small_df.mean())\n",
        "\n",
        "print(\"\\nMean of each Z-scored column:\")\n",
        "print(small_df_z_manual.mean())"
      ],
      "metadata": {
        "colab": {
          "base_uri": "https://localhost:8080/"
        },
        "id": "VxMLEnpF42Yu",
        "outputId": "59ad0d5b-e882-4754-968c-9539890a40cd"
      },
      "execution_count": 29,
      "outputs": [
        {
          "output_type": "stream",
          "name": "stdout",
          "text": [
            "\n",
            "Z-scored small_df (manual):\n",
            "   height_cm  weight_kg  exam_score\n",
            "0   1.374768   1.596683   -0.097119\n",
            "1   0.546594  -0.138842    0.735331\n",
            "2  -0.612848   0.208263    1.012815\n",
            "3  -1.192570  -0.833052   -0.097119\n",
            "4  -0.115944  -0.833052   -1.553908\n",
            "\n",
            "Mean of each column:\n",
            "height_cm     171.4\n",
            "weight_kg      64.6\n",
            "exam_score     74.4\n",
            "dtype: float64\n",
            "\n",
            "Mean of each Z-scored column:\n",
            "height_cm    -4.801715e-16\n",
            "weight_kg     4.884981e-16\n",
            "exam_score   -3.552714e-16\n",
            "dtype: float64\n"
          ]
        }
      ]
    },
    {
      "cell_type": "code",
      "source": [
        "# --- Step 3: Plot boxplots to compare before and after standardization ---\n",
        "\n",
        "plt.figure(figsize=(10,4))\n",
        "\n",
        "# Left plot: original values\n",
        "plt.subplot(1,2,1)\n",
        "small_df.boxplot()              # draw boxplot for raw data\n",
        "plt.title(\"Original Columns\")\n",
        "plt.ylabel(\"Values\")\n",
        "# Add lines for the mean of each original column\n",
        "for i, col in enumerate(small_df.columns):\n",
        "    plt.axhline(small_df[col].mean(), color='red', linestyle='dashed', linewidth=1)\n",
        "\n",
        "\n",
        "# Right plot: standardized (z-scored) values\n",
        "plt.subplot(1,2,2)\n",
        "small_df_z_manual.boxplot()     # draw boxplot for z-scored data\n",
        "plt.title(\"Z-Scored Columns\")\n",
        "plt.ylabel(\"Z-Values\")\n",
        "# Add lines for the mean of each z-scored column (should be close to 0)\n",
        "for i, col in enumerate(small_df_z_manual.columns):\n",
        "     plt.axhline(small_df_z_manual[col].mean(), color='red', linestyle='dashed', linewidth=1)\n",
        "\n",
        "\n",
        "plt.tight_layout()              # keep plots neat\n",
        "plt.show()"
      ],
      "metadata": {
        "colab": {
          "base_uri": "https://localhost:8080/",
          "height": 407
        },
        "id": "Zpwnzq9577N0",
        "outputId": "246a6f02-a791-4972-df5d-46c6565597ff"
      },
      "execution_count": 30,
      "outputs": [
        {
          "output_type": "display_data",
          "data": {
            "text/plain": [
              "<Figure size 1000x400 with 2 Axes>"
            ],
            "image/png": "[encoded data removed]"
          },
          "metadata": {}
        }
      ]
    },
    {
      "cell_type": "markdown",
      "metadata": {
        "id": "4538f314"
      },
      "source": [
        "\n",
        "## 5) `StandardScaler` from scikit‑learn (and compare)\n",
        "\n",
        "Now standardize using `StandardScaler`. This should produce the **same** result as your z‑scores (up to tiny rounding).\n",
        "\n",
        "**Your tasks**\n",
        "1. `from sklearn.preprocessing import StandardScaler`\n",
        "2. Make a **2D array** from your `scores` (shape: `len(scores) x 1`) and fit `StandardScaler` to it.\n",
        "3. Get `z_sklearn_scores` for `scores` and compare with `z_numpy` (print first 5 and compute the **max absolute difference**).\n",
        "4. Do the same for your `small_df` to get `small_df_z_sklearn` and compare with `small_df_z_manual` (again, max absolute difference).\n",
        "5. Draw **overlapping histograms** (or side‑by‑side) to compare manual vs sklearn z‑scores for `scores`.\n"
      ]
    },
    {
      "cell_type": "code",
      "source": [
        "# 1) Make a 2D array from scores (shape: n x 1)\n",
        "scores_arr = np.array(scores).reshape(15, 1)\n",
        "#print(scores_arr)\n",
        "#print(scores_arr.shape)\n",
        "\n",
        "# 2) Fit the scaler on the data, then transform to z-scores\n",
        "scaler_scores = StandardScaler()\n",
        "z_sklearn_scores = scaler_scores.fit_transform(scores_arr).ravel()\n",
        "\n",
        "# 3) (If needed) compute NumPy z-scores to compare against\n",
        "mean_np = np.mean(scores)\n",
        "std_np  = np.std(scores, ddof=1)\n",
        "z_numpy = (np.array(scores) - mean_np) / std_np\n",
        "\n",
        "# 4) Show first 5 from each\n",
        "print(\"First 5 z (NumPy):   \", z_numpy[:5])\n",
        "print(\"First 5 z (sklearn): \", z_sklearn_scores[:5])\n",
        "\n",
        "# 5) Max absolute difference (should be tiny ~ 1e-15 to 1e-12)\n",
        "max_diff_scores = np.max(np.abs(z_sklearn_scores - z_numpy))\n",
        "print(\"Max |difference| (scores):\", max_diff_scores)"
      ],
      "metadata": {
        "colab": {
          "base_uri": "https://localhost:8080/"
        },
        "id": "kwJ8cpEqznP6",
        "outputId": "eb6d956a-f8e9-47e5-cac5-4396683328ea"
      },
      "execution_count": 41,
      "outputs": [
        {
          "output_type": "stream",
          "name": "stdout",
          "text": [
            "First 5 z (NumPy):    [ 0.80245356 -0.5595089   1.13374172 -0.33865012 -0.22822074]\n",
            "First 5 z (sklearn):  [ 0.83061834 -0.57914673  1.17353417 -0.35053618 -0.2362309 ]\n",
            "Max |difference| (scores): 0.06433974268928844\n"
          ]
        }
      ]
    },
    {
      "cell_type": "code",
      "source": [
        "# B) Standardize the small_df with StandardScaler and compare\n",
        "# 1) Fit the scaler on the whole DataFrame and transform\n",
        "\n",
        "scaler_df = StandardScaler()\n",
        "small_df_z_sklearn_vals = scaler_df.fit_transform(small_df.values)\n",
        "\n",
        "# 2) Put result back into a DataFrame (same columns and index)\n",
        "small_df_z_sklearn = pd.DataFrame(\n",
        "    small_df_z_sklearn_vals,\n",
        "    columns=small_df.columns,\n",
        "    index=small_df.index\n",
        ")\n",
        "\n",
        "print(\"Z-scored (sklearn) small_df:\")\n",
        "print(small_df_z_sklearn)\n",
        "\n",
        "# 3) Compare with your manual z-scores\n",
        "max_diff_df = np.max(np.abs(small_df_z_sklearn.values - small_df_z_manual.values))\n",
        "print(\"Max |difference| (small_df):\", max_diff_df)\n",
        "\n",
        "\n"
      ],
      "metadata": {
        "colab": {
          "base_uri": "https://localhost:8080/"
        },
        "id": "62pFTB5QCSRM",
        "outputId": "5b548218-8849-4f00-8256-df9b34c51bd1"
      },
      "execution_count": 28,
      "outputs": [
        {
          "output_type": "stream",
          "name": "stdout",
          "text": [
            "Z-scored (sklearn) small_df:\n",
            "   height_cm  weight_kg  exam_score\n",
            "0   1.537037   1.785146   -0.108583\n",
            "1   0.611111  -0.155230    0.822125\n",
            "2  -0.685185   0.232845    1.132361\n",
            "3  -1.333333  -0.931381   -0.108583\n",
            "4  -0.129630  -0.931381   -1.737322\n",
            "Max |difference| (small_df): 0.1884628997731319\n"
          ]
        }
      ]
    },
    {
      "cell_type": "code",
      "source": [
        "#C) Compare distributions with simple side-by-side histograms\n",
        "\n",
        "plt.figure(figsize=(10,4))\n",
        "\n",
        "# Left: NumPy/manual z-scores\n",
        "plt.subplot(1,2,1)\n",
        "plt.hist(z_numpy, bins=8, edgecolor='black')\n",
        "plt.title(\"Z (NumPy)\")\n",
        "plt.xlabel(\"Z-score\")\n",
        "plt.ylabel(\"Frequency\")\n",
        "\n",
        "# Right: sklearn z-scores\n",
        "plt.subplot(1,2,2)\n",
        "plt.hist(z_sklearn_scores, bins=8, edgecolor='black')\n",
        "plt.title(\"Z (StandardScaler)\")\n",
        "plt.xlabel(\"Z-score\")\n",
        "plt.ylabel(\"Frequency\")\n",
        "\n",
        "plt.tight_layout()\n",
        "plt.show()\n",
        "\n",
        "\n",
        "\n",
        "\n"
      ],
      "metadata": {
        "colab": {
          "base_uri": "https://localhost:8080/",
          "height": 407
        },
        "id": "Q_BkKFfqDAre",
        "outputId": "548c2571-096d-496a-da2b-7118ed34769c"
      },
      "execution_count": 29,
      "outputs": [
        {
          "output_type": "display_data",
          "data": {
            "text/plain": [
              "<Figure size 1000x400 with 2 Axes>"
            ],
            "image/png": "[encoded data removed]"
          },
          "metadata": {}
        }
      ]
    },
    {
      "cell_type": "markdown",
      "metadata": {
        "id": "94df6e71"
      },
      "source": [
        "\n",
        "## 6) Short Answer Questions\n",
        "\n",
        "Answer briefly (1–3 sentences each).\n",
        "\n",
        "1. In your own words, what does a z‑score of **+2.0** mean? What about **−1.5**?\n",
        "2. Why do we use the **sample** standard deviation (divide by \\(n-1\\)) in many data‑analysis situations?\n",
        "3. If a dataset has **strong outliers**, how does that affect z‑scores? When might another scaler (e.g., RobustScaler) be better?\n",
        "4. If your training set and test set come from different distributions, what can you do to reduce problems when standardizing?\n"
      ]
    },
    {
      "cell_type": "markdown",
      "source": [],
      "metadata": {
        "id": "6Z30gcn0zvF_"
      }
    },
    {
      "cell_type": "markdown",
      "metadata": {
        "id": "d2ecd87c"
      },
      "source": [
        "\n",
        "---\n",
        "\n",
        "## Appendix: Key Formulas (for reference)\n",
        "\n",
        "- Sample mean  \n",
        "  $$\n",
        "  \\bar{x} \\;=\\; \\frac{1}{n}\\sum_{i=1}^{n} x_i\n",
        "  $$\n",
        "\n",
        "- Sample variance  \n",
        "  $$\n",
        "  σ^2 \\;=\\; \\frac{1}{n-1}\\sum_{i=1}^{n}\\bigl(x_i - \\bar{x}\\bigr)^2\n",
        "  $$\n",
        "\n",
        "- Sample standard deviation  \n",
        "  $$\n",
        " σ \\;=\\; \\sqrt{σ^2}\n",
        "  $$\n",
        "\n",
        "- Z‑score  \n",
        "  $$\n",
        "  z_i \\;=\\; \\frac{x_i - \\bar{x}}{σ}\n",
        "  $$\n"
      ]
    },
    {
      "cell_type": "code",
      "source": [],
      "metadata": {
        "id": "nkLQlcCwzum7"
      },
      "execution_count": null,
      "outputs": []
    }
  ]
}